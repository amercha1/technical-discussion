{
  "nbformat": 4,
  "nbformat_minor": 0,
  "metadata": {
    "colab": {
      "name": "technical-docs.ipynb",
      "provenance": [],
      "collapsed_sections": [],
      "authorship_tag": "ABX9TyOqTPP8KzNcUJIfW3MJhK/j",
      "include_colab_link": true
    },
    "kernelspec": {
      "name": "python3",
      "display_name": "Python 3"
    },
    "language_info": {
      "name": "python"
    }
  },
  "cells": [
    {
      "cell_type": "markdown",
      "metadata": {
        "id": "view-in-github",
        "colab_type": "text"
      },
      "source": [
        "<a href=\"https://colab.research.google.com/github/amercha1/technical-discussion/blob/main/technical_docs.ipynb\" target=\"_parent\"><img src=\"https://colab.research.google.com/assets/colab-badge.svg\" alt=\"Open In Colab\"/></a>"
      ]
    },
    {
      "cell_type": "code",
      "metadata": {
        "id": "oH5a2FzfIc8M"
      },
      "source": [
        ""
      ],
      "execution_count": null,
      "outputs": []
    },
    {
      "cell_type": "markdown",
      "metadata": {
        "id": "A3g9VAURLv4G"
      },
      "source": [
        "## Digest"
      ]
    },
    {
      "cell_type": "markdown",
      "metadata": {
        "id": "djzIUT_fLrO_"
      },
      "source": [
        ""
      ]
    },
    {
      "cell_type": "code",
      "metadata": {
        "colab": {
          "base_uri": "https://localhost:8080/",
          "height": 35
        },
        "id": "p98Oj2S4Imgu",
        "outputId": "92870e4b-598a-4175-987c-2029abc2eb56"
      },
      "source": [
        "def hello():\n",
        "  \n",
        "  return \"Hi there!\"\n",
        "hello()\n",
        "\n"
      ],
      "execution_count": 9,
      "outputs": [
        {
          "output_type": "execute_result",
          "data": {
            "application/vnd.google.colaboratory.intrinsic+json": {
              "type": "string"
            },
            "text/plain": [
              "'Hi there!'"
            ]
          },
          "metadata": {
            "tags": []
          },
          "execution_count": 9
        }
      ]
    },
    {
      "cell_type": "code",
      "metadata": {
        "id": "bQMYg4oYMd4a"
      },
      "source": [
        ""
      ],
      "execution_count": 9,
      "outputs": []
    },
    {
      "cell_type": "markdown",
      "metadata": {
        "id": "e-O_42isMeZ5"
      },
      "source": [
        ""
      ]
    },
    {
      "cell_type": "markdown",
      "metadata": {
        "id": "CtrGymIvMOcZ"
      },
      "source": [
        "## Ingest"
      ]
    },
    {
      "cell_type": "code",
      "metadata": {
        "id": "jwEe6-ZNNJ_3"
      },
      "source": [
        "return \"Hello\""
      ],
      "execution_count": null,
      "outputs": []
    },
    {
      "cell_type": "markdown",
      "metadata": {
        "id": "alQrLG_tMj0j"
      },
      "source": [
        "## Digest"
      ]
    },
    {
      "cell_type": "markdown",
      "metadata": {
        "id": "3TGCDPtNLF-m"
      },
      "source": [
        "### This is a markdown heading"
      ]
    },
    {
      "cell_type": "markdown",
      "metadata": {
        "id": "o38jJM5TMh9L"
      },
      "source": [
        "* One\n",
        "* Two\n",
        "* Three"
      ]
    }
  ]
}